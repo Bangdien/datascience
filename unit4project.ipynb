{
 "cells": [
  {
   "cell_type": "markdown",
   "metadata": {},
   "source": []
  },
  {
   "cell_type": "code",
   "execution_count": 167,
   "metadata": {},
   "outputs": [
    {
     "data": {
      "text/html": [
       "<div>\n",
       "<style>\n",
       "    .dataframe thead tr:only-child th {\n",
       "        text-align: right;\n",
       "    }\n",
       "\n",
       "    .dataframe thead th {\n",
       "        text-align: left;\n",
       "    }\n",
       "\n",
       "    .dataframe tbody tr th {\n",
       "        vertical-align: top;\n",
       "    }\n",
       "</style>\n",
       "<table border=\"1\" class=\"dataframe\">\n",
       "  <thead>\n",
       "    <tr style=\"text-align: right;\">\n",
       "      <th></th>\n",
       "      <th>project_name</th>\n",
       "    </tr>\n",
       "    <tr>\n",
       "      <th>countryname</th>\n",
       "      <th></th>\n",
       "    </tr>\n",
       "  </thead>\n",
       "  <tbody>\n",
       "    <tr>\n",
       "      <th>People's Republic of China</th>\n",
       "      <td>19</td>\n",
       "    </tr>\n",
       "    <tr>\n",
       "      <th>Republic of Indonesia</th>\n",
       "      <td>19</td>\n",
       "    </tr>\n",
       "    <tr>\n",
       "      <th>Socialist Republic of Vietnam</th>\n",
       "      <td>17</td>\n",
       "    </tr>\n",
       "    <tr>\n",
       "      <th>Republic of India</th>\n",
       "      <td>16</td>\n",
       "    </tr>\n",
       "    <tr>\n",
       "      <th>Republic of Yemen</th>\n",
       "      <td>13</td>\n",
       "    </tr>\n",
       "    <tr>\n",
       "      <th>Kingdom of Morocco</th>\n",
       "      <td>12</td>\n",
       "    </tr>\n",
       "    <tr>\n",
       "      <th>Nepal</th>\n",
       "      <td>12</td>\n",
       "    </tr>\n",
       "    <tr>\n",
       "      <th>People's Republic of Bangladesh</th>\n",
       "      <td>12</td>\n",
       "    </tr>\n",
       "    <tr>\n",
       "      <th>Africa</th>\n",
       "      <td>11</td>\n",
       "    </tr>\n",
       "    <tr>\n",
       "      <th>Republic of Mozambique</th>\n",
       "      <td>11</td>\n",
       "    </tr>\n",
       "  </tbody>\n",
       "</table>\n",
       "</div>"
      ],
      "text/plain": [
       "                                 project_name\n",
       "countryname                                  \n",
       "People's Republic of China                 19\n",
       "Republic of Indonesia                      19\n",
       "Socialist Republic of Vietnam              17\n",
       "Republic of India                          16\n",
       "Republic of Yemen                          13\n",
       "Kingdom of Morocco                         12\n",
       "Nepal                                      12\n",
       "People's Republic of Bangladesh            12\n",
       "Africa                                     11\n",
       "Republic of Mozambique                     11"
      ]
     },
     "execution_count": 167,
     "metadata": {},
     "output_type": "execute_result"
    }
   ],
   "source": [
    "import pandas as pd\n",
    "import json\n",
    "from pandas.io.json import json_normalize\n",
    "import numpy as np\n",
    "\n",
    "#Read data into DataFrame\n",
    "wbp_df = pd.read_json((open('data/world_bank_projects.json')))\n",
    "wbp_df\n",
    "countries = wbp_df.loc[:'countryname','project_name']\n",
    "#Find the 10 countries with most projects\n",
    "top10MostProjectCountries = wbp_df.groupby(['countryname']).agg({'project_name':'count'}).nlargest(10,'project_name')\n"
   ]
  },
  {
   "cell_type": "code",
   "execution_count": 290,
   "metadata": {},
   "outputs": [],
   "source": [
    "#Find the top 10 major project themes (using column 'mjtheme_namecode')\n",
    "#Get data for themes\n",
    "themes = wbp_df.loc[:'mjtheme_namecode']\n",
    "#topThemes = themes.groupby(['mjtheme_namecode']).agg({'mjtheme_namecode':'count'}).nlargest(10,'mjtheme_namecode')\n",
    "        "
   ]
  },
  {
   "cell_type": "code",
   "execution_count": 284,
   "metadata": {
    "scrolled": true
   },
   "outputs": [
    {
     "data": {
      "text/plain": [
       "0      [{'code': '8', 'name': 'Human development'}, {...\n",
       "1      [{'code': '1', 'name': 'Economic management'},...\n",
       "2      [{'code': '5', 'name': 'Trade and integration'...\n",
       "3      [{'code': '7', 'name': 'Social dev/gender/incl...\n",
       "4      [{'code': '5', 'name': 'Trade and integration'...\n",
       "5      [{'code': '6', 'name': 'Social protection and ...\n",
       "6      [{'code': '2', 'name': 'Public sector governan...\n",
       "7      [{'code': '11', 'name': 'Environment and natur...\n",
       "8      [{'code': '10', 'name': 'Rural development'}, ...\n",
       "9      [{'code': '2', 'name': 'Public sector governan...\n",
       "10     [{'code': '10', 'name': 'Rural development'}, ...\n",
       "11     [{'code': '10', 'name': 'Rural development'}, ...\n",
       "12                         [{'code': '4', 'name': 'NA'}]\n",
       "13     [{'code': '5', 'name': 'Trade and integration'...\n",
       "14     [{'code': '6', 'name': 'Social protection and ...\n",
       "15     [{'code': '10', 'name': 'Rural development'}, ...\n",
       "16     [{'code': '10', 'name': 'Rural development'}, ...\n",
       "17     [{'code': '8', 'name': 'Human development'}, {...\n",
       "18     [{'code': '8', 'name': 'Human development'}, {...\n",
       "19     [{'code': '2', 'name': 'Public sector governan...\n",
       "20     [{'code': '7', 'name': 'Social dev/gender/incl...\n",
       "21     [{'code': '9', 'name': 'Urban development'}, {...\n",
       "22     [{'code': '7', 'name': 'Social dev/gender/incl...\n",
       "23     [{'code': '8', 'name': 'Human development'}, {...\n",
       "24     [{'code': '10', 'name': 'Rural development'}, ...\n",
       "25     [{'code': '11', 'name': 'Environment and natur...\n",
       "26     [{'code': '4', 'name': 'Financial and private ...\n",
       "27     [{'code': '11', 'name': 'Environment and natur...\n",
       "28     [{'code': '10', 'name': 'Rural development'}, ...\n",
       "29     [{'code': '7', 'name': 'Social dev/gender/incl...\n",
       "                             ...                        \n",
       "470    [{'code': '5', 'name': 'Trade and integration'...\n",
       "471    [{'code': '10', 'name': 'Rural development'}, ...\n",
       "472    [{'code': '11', 'name': 'Environment and natur...\n",
       "473    [{'code': '11', 'name': 'Environment and natur...\n",
       "474    [{'code': '9', 'name': 'Urban development'}, {...\n",
       "475    [{'code': '4', 'name': 'Financial and private ...\n",
       "476    [{'code': '10', 'name': 'Rural development'}, ...\n",
       "477    [{'code': '4', 'name': 'Financial and private ...\n",
       "478    [{'code': '2', 'name': 'Public sector governan...\n",
       "479    [{'code': '7', 'name': 'Social dev/gender/incl...\n",
       "480    [{'code': '2', 'name': 'Public sector governan...\n",
       "481    [{'code': '8', 'name': 'Human development'}, {...\n",
       "482    [{'code': '10', 'name': 'Rural development'}, ...\n",
       "483    [{'code': '11', 'name': 'Environment and natur...\n",
       "484    [{'code': '10', 'name': 'Rural development'}, ...\n",
       "485    [{'code': '8', 'name': 'Human development'}, {...\n",
       "486    [{'code': '2', 'name': 'Public sector governan...\n",
       "487    [{'code': '11', 'name': 'Environment and natur...\n",
       "488    [{'code': '8', 'name': 'Human development'}, {...\n",
       "489    [{'code': '9', 'name': 'Urban development'}, {...\n",
       "490    [{'code': '2', 'name': 'Public sector governan...\n",
       "491    [{'code': '10', 'name': 'Rural development'}, ...\n",
       "492    [{'code': '8', 'name': 'Human development'}, {...\n",
       "493    [{'code': '11', 'name': 'Environment and natur...\n",
       "494    [{'code': '6', 'name': 'Social protection and ...\n",
       "495    [{'code': '4', 'name': 'Financial and private ...\n",
       "496    [{'code': '8', 'name': 'Human development'}, {...\n",
       "497    [{'code': '10', 'name': 'Rural development'}, ...\n",
       "498    [{'code': '10', 'name': 'Rural development'}, ...\n",
       "499    [{'code': '9', 'name': 'Urban development'}, {...\n",
       "Name: mjtheme_namecode, Length: 500, dtype: object"
      ]
     },
     "execution_count": 284,
     "metadata": {},
     "output_type": "execute_result"
    }
   ],
   "source": [
    "#Dictionary theme \n",
    "dic_theme = wbp_df['mjtheme_namecode']\n",
    "dic_theme\n",
    "#Replace missing name with 'NA'\n",
    "for item in wbp_df['mjtheme_namecode']:\n",
    "    for i in item [:] :\n",
    "        if i['name'] == '' :\n",
    "            i['name'] = 'NA'            \n",
    "dic_theme       \n"
   ]
  },
  {
   "cell_type": "code",
   "execution_count": null,
   "metadata": {
    "collapsed": true
   },
   "outputs": [],
   "source": []
  }
 ],
 "metadata": {
  "kernelspec": {
   "display_name": "Python 3",
   "language": "python",
   "name": "python3"
  },
  "language_info": {
   "codemirror_mode": {
    "name": "ipython",
    "version": 3
   },
   "file_extension": ".py",
   "mimetype": "text/x-python",
   "name": "python",
   "nbconvert_exporter": "python",
   "pygments_lexer": "ipython3",
   "version": "3.6.2"
  }
 },
 "nbformat": 4,
 "nbformat_minor": 2
}
